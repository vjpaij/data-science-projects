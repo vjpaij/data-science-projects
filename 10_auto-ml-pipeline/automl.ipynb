{
 "cells": [
  {
   "cell_type": "markdown",
   "id": "0ecfae44",
   "metadata": {},
   "source": [
    "## Data Loading\n",
    "\n",
    "The first step is to load the data into a suitable format for processing. For demonstration, generate a synthetic dataset. Define a function that generates a synthetic dataset with numerical and categorical features, and a binary target variable."
   ]
  },
  {
   "cell_type": "code",
   "execution_count": 1,
   "id": "75109043",
   "metadata": {},
   "outputs": [],
   "source": [
    "import pandas as pd\n",
    "import numpy as np\n",
    "from sklearn.datasets import make_classification\n",
    "from sklearn.model_selection import train_test_split\n",
    "\n",
    "def generate_synthetic_data(n_samples=1000, n_features=20):\n",
    "    \"\"\"\n",
    "    Generates a synthetic dataset for binary classification.\n",
    "\n",
    "    Args:\n",
    "        n_samples: The number of samples to generate.\n",
    "        n_features: The number of features to generate.\n",
    "\n",
    "    Returns:\n",
    "        A Pandas DataFrame containing the synthetic dataset.\n",
    "    \"\"\"\n",
    "    # Generate the synthetic dataset\n",
    "    X, y = make_classification(\n",
    "        n_samples=n_samples,\n",
    "        n_features=n_features,\n",
    "        n_informative=15,  # Number of informative features\n",
    "        n_redundant=5,    # Number of redundant features\n",
    "        random_state=42,\n",
    "        n_classes=2,\n",
    "        weights=[0.8, 0.2], #Imbalanced classes\n",
    "        flip_y=0.05 # Add some noise to the labels\n",
    "    )\n",
    "\n",
    "    # Convert to Pandas DataFrame\n",
    "    df = pd.DataFrame(X, columns=[f'Feature_{i}' for i in range(1, n_features + 1)])\n",
    "    df['Target'] = y\n",
    "\n",
    "    # Add categorical features\n",
    "    df['Feature_11'] = np.random.choice(['A', 'B', 'C'], size=n_samples)\n",
    "    df['Feature_12'] = np.random.choice(['X', 'Y', 'Z', 'W'], size=n_samples)\n",
    "    df['Feature_13'] = np.random.choice(['P', 'Q'], size=n_samples)\n",
    "\n",
    "    return df"
   ]
  },
  {
   "cell_type": "code",
   "execution_count": 2,
   "id": "8a2f45d9",
   "metadata": {},
   "outputs": [],
   "source": [
    "# Load the data\n",
    "data = generate_synthetic_data()"
   ]
  },
  {
   "cell_type": "code",
   "execution_count": 3,
   "id": "9d59eaa8",
   "metadata": {},
   "outputs": [],
   "source": [
    "# Split data into training and testing\n",
    "train_data, test_data = train_test_split(data, test_size=0.2, random_state=42)"
   ]
  },
  {
   "cell_type": "markdown",
   "id": "220b7703",
   "metadata": {},
   "source": [
    "## Data Processing\n",
    "\n",
    "Raw data often contains missing values, inconsistencies, and categorical variables that need to be transformed into a numerical format. This step prepares the data for model training.\n",
    "- Handle Missing Values: Impute missing values using the mean for numerical features and the mode for categorical features.\n",
    "- Encode Categorical Features: Use one-hot encoding to convert categorical variables into numerical representations.\n",
    "- Scale Numerical Features: Use StandardScaler to standardize numerical features."
   ]
  },
  {
   "cell_type": "code",
   "execution_count": 6,
   "id": "f71f5704",
   "metadata": {},
   "outputs": [],
   "source": [
    "from sklearn.model_selection import train_test_split\n",
    "from sklearn.pipeline import Pipeline\n",
    "from sklearn.preprocessing import StandardScaler\n",
    "from sklearn.preprocessing import OneHotEncoder\n",
    "from sklearn.compose import ColumnTransformer\n",
    "from sklearn.impute import SimpleImputer\n",
    "\n",
    "def preprocess_data(train_data, test_data):\n",
    "    \"\"\"\n",
    "    Preprocesses the training and testing data.\n",
    "\n",
    "    Args:\n",
    "        train_data: Pandas DataFrame containing the training data.\n",
    "        test_data: Pandas DataFrame containing the testing data.\n",
    "\n",
    "    Returns:\n",
    "        Tuple of preprocessed training and testing data (X_train, X_test, y_train, y_test).\n",
    "    \"\"\"\n",
    "    # Separate features and target variable\n",
    "    X_train = train_data.drop('Target', axis=1)\n",
    "    y_train = train_data['Target']\n",
    "    X_test = test_data.drop('Target', axis=1)\n",
    "    y_test = test_data['Target']\n",
    "\n",
    "    # Identify numerical and categorical features\n",
    "    numerical_features = X_train.select_dtypes(include=np.number).columns\n",
    "    categorical_features = X_train.select_dtypes(include='object').columns\n",
    "\n",
    "    # Create transformers for preprocessing\n",
    "    numerical_transformer = Pipeline(steps=[\n",
    "        ('imputer', SimpleImputer(strategy='mean')),\n",
    "        ('scaler', StandardScaler())\n",
    "    ])\n",
    "    categorical_transformer = Pipeline(steps=[\n",
    "        ('imputer', SimpleImputer(strategy='most_frequent')),\n",
    "        ('onehot', OneHotEncoder(handle_unknown='ignore'))\n",
    "    ])\n",
    "\n",
    "    # Use ColumnTransformer to apply transformers to the correct columns\n",
    "    preprocessor = ColumnTransformer(\n",
    "        transformers=[\n",
    "            ('num', numerical_transformer, numerical_features),\n",
    "            ('cat', categorical_transformer, categorical_features)\n",
    "        ])\n",
    "\n",
    "    # Fit and transform the training data\n",
    "    X_train_processed = preprocessor.fit_transform(X_train)\n",
    "    X_train_processed = pd.DataFrame(X_train_processed) # Convert back to dataframe\n",
    "    \n",
    "    # Transform the testing data using the same preprocessor\n",
    "    X_test_processed = preprocessor.transform(X_test)\n",
    "    X_test_processed = pd.DataFrame(X_test_processed)\n",
    "\n",
    "    return X_train_processed, X_test_processed, y_train, y_test"
   ]
  },
  {
   "cell_type": "code",
   "execution_count": 7,
   "id": "0f38d556",
   "metadata": {},
   "outputs": [],
   "source": [
    "# Preprocess the data\n",
    "X_train, X_test, y_train, y_test = preprocess_data(train_data, test_data)"
   ]
  },
  {
   "cell_type": "markdown",
   "id": "d6fd7c6b",
   "metadata": {},
   "source": [
    "## Model Selection and Training with AutoML\n",
    "\n",
    "Use auto-sklearn to automatically search for the best-performing machine learning model and tune its hyperparameters. AutoML simplifies the model selection and hyperparameter tuning process, which can be time-consuming and require extensive expertise.\n",
    "- Initialize an Auto-sklearn classifier.\n",
    "- Set a time limit for the search process.\n",
    "- Fit the Auto-sklearn instance to the training data.\n"
   ]
  },
  {
   "cell_type": "code",
   "execution_count": null,
   "id": "64ec2061",
   "metadata": {},
   "outputs": [],
   "source": [
    "import autosklearn.classification\n",
    "import sklearn.model_selection\n",
    "import sklearn.metrics\n",
    "import time\n",
    "\n",
    "def train_automl_model(X_train, y_train, time_limit=60):\n",
    "    \"\"\"\n",
    "    Trains an AutoML model using auto-sklearn.\n",
    "\n",
    "    Args:\n",
    "        X_train: Preprocessed training features.\n",
    "        y_train: Training target variable.\n",
    "        time_limit: The time limit for the AutoML search in seconds.\n",
    "\n",
    "    Returns:\n",
    "        The trained Auto-sklearn model.\n",
    "    \"\"\"\n",
    "    # Create an Auto-sklearn classification object\n",
    "    automl = autosklearn.classification.AutoSklearnClassifier(\n",
    "        time_left_for_this_task=time_limit,  # Time limit in seconds\n",
    "        per_run_time_limit=15,            # Time limit for each individual run\n",
    "        memory_limit=4096,               # Memory limit in MB\n",
    "        n_jobs=-1,                       # Use all available CPU cores\n",
    "        # Resampling strategy\n",
    "        resampling_strategy=\"cv\",\n",
    "        resampling_strategy_arguments={'folds': 3},\n",
    "        \n",
    "        #Enables logging\n",
    "        #delete_tmp_folder_after_terminate=False, # Keep the temp files.\n",
    "        #tmp_folder=\"tmp\"\n",
    "    )\n",
    "\n",
    "    # Fit the AutoML model to the training data\n",
    "    automl.fit(X_train, y_train, dataset_name='synthetic_data')\n",
    "\n",
    "    return automl\n",
    "\n",
    "# Train the AutoML model\n",
    "automl_model = train_automl_model(X_train, y_train, time_limit=120) # Increased time limit for better results"
   ]
  },
  {
   "cell_type": "code",
   "execution_count": null,
   "id": "e7152e48",
   "metadata": {},
   "outputs": [],
   "source": [
    "# Evaluate the model\n",
    "evaluation_metrics = evaluate_model(automl_model, X_test, y_test)"
   ]
  },
  {
   "cell_type": "markdown",
   "id": "e67de17e",
   "metadata": {},
   "source": [
    "## Model Deployment with Streamlit\n",
    "\n",
    "To make the model accessible to users, we'll deploy it as a web application using Streamlit. This allows users to input data and get predictions without needing to write any code.\n",
    "\n",
    "-> automl_app.py"
   ]
  }
 ],
 "metadata": {
  "kernelspec": {
   "display_name": "dsvenv",
   "language": "python",
   "name": "python3"
  },
  "language_info": {
   "codemirror_mode": {
    "name": "ipython",
    "version": 3
   },
   "file_extension": ".py",
   "mimetype": "text/x-python",
   "name": "python",
   "nbconvert_exporter": "python",
   "pygments_lexer": "ipython3",
   "version": "3.9.22"
  }
 },
 "nbformat": 4,
 "nbformat_minor": 5
}
